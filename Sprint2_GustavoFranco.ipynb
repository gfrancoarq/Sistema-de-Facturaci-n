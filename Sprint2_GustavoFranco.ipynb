{
  "nbformat": 4,
  "nbformat_minor": 0,
  "metadata": {
    "colab": {
      "provenance": []
    },
    "kernelspec": {
      "name": "python3",
      "display_name": "Python 3"
    },
    "language_info": {
      "name": "python"
    }
  },
  "cells": [
    {
      "cell_type": "markdown",
      "source": [
        "# Sprint 2 _ Gustavo Franco"
      ],
      "metadata": {
        "id": "TB-cPjt9q3I3"
      }
    },
    {
      "cell_type": "markdown",
      "source": [
        "# Repositorio en Github:\n",
        "\n",
        "[Proyecto de Facturación y Bodega](https://github.com/gfrancoarq/Sistema-de-Facturaci-n)"
      ],
      "metadata": {
        "id": "y1mzRw9vvrAN"
      }
    },
    {
      "cell_type": "markdown",
      "source": [
        "**Descripción de la Actividad Evaluativa**\n",
        "\n",
        "Vamos a crear un sistema de facturación y bodega simplificado, el cual\n",
        "tendrá diferentes opciones:\n",
        "\n",
        "**a) Ingresar producto:** debe ingresarse el nombre y el precio del producto.\n",
        "Tendrá un sub menú: nuevo producto, guardar archivo o volver.\n",
        "\n",
        "**b) Ingresar factura:** debe ingresarse el nombre del cliente, luego deberá\n",
        "generar un submenú: ingresar producto, guardar y salir.\n",
        "Los productos se ingresan con nombre y precio. La factura además\n",
        "debe guardar la fecha y hora actual de la venta.\n",
        "\n",
        "**c) Ver resumen:** en esta opción se debe desplegar:\n",
        "Cantidad de ventas y monto total vendido. Opción de guardar\n",
        "resumen (ingresando nombre de archivo).\n",
        "\n",
        "**d) Ver detalle:** se debe tener las opciones desplegar: ventas por usuario,\n",
        "ventas por producto, ventas diarias, guardar vista (ingresando el\n",
        "nombre de archivo)\n",
        "\n",
        "**e) Borrar datos:** elimina los archivos guardados (elegir productos,\n",
        "facturas, todos o volver)\n",
        "\n",
        "**f) Salir:** termina la ejecución del programa\n",
        "Cabe señalar, que, si los archivos ya existen, entonces deben ser cargados\n",
        "al inicio."
      ],
      "metadata": {
        "id": "Wx9PUup0r9lO"
      }
    },
    {
      "cell_type": "markdown",
      "source": [
        "# Librerías:"
      ],
      "metadata": {
        "id": "cHu8tFj2sr9L"
      }
    },
    {
      "cell_type": "code",
      "execution_count": null,
      "metadata": {
        "id": "m0qyrFhfq09f"
      },
      "outputs": [],
      "source": [
        "# A continuación, importamos la librería Pandas para trabajar con datos\n",
        "# Luego, importamos la función datetime del módulo datetime para obtener la fecha y hora actual.\n",
        "import pandas as pd\n",
        "from datetime import datetime\n",
        "\n",
        "# Definir nombres de archivos\n",
        "# Ahora, definimos el nombre del archivo para almacenar los productos.\n",
        "archivo_productos = 'productos.csv'\n",
        "# También definimos el nombre del archivo para almacenar las facturas.\n",
        "archivo_facturas = 'facturas.csv'\n",
        "# Luego, definimos el nombre del archivo para almacenar el resumen\n",
        "archivo_resumen = 'resumen.csv'\n",
        "# Finalmente, definimos el nombre del archivo para almacenar el detalle.\n",
        "archivo_detalle = 'detalle.csv'"
      ]
    },
    {
      "cell_type": "markdown",
      "source": [
        "# Carga o creación de elementos:"
      ],
      "metadata": {
        "id": "ltX2Zwv7PTMH"
      }
    },
    {
      "cell_type": "code",
      "source": [
        "#A continuación, intentamos leer el archivo productos.csv y guardamos el contenido en el DataFrame df_productos.\n",
        "#Si el archivo productos.csv no existe, creamos un nuevo DataFrame df_productos con las columnas Nombre y Precio.\n",
        "\n",
        "try:\n",
        "  df_productos = pd.read_csv(archivo_productos)\n",
        "except FileNotFoundError:\n",
        "  df_productos = pd.DataFrame(columns=['Nombre', 'Precio'])\n",
        "\n",
        "#Luego, intentamos leer el archivo facturas.csv y guardamos el contenido en el DataFrame df_facturas.\n",
        "#Si el archivo facturas.csv no existe, creamos un nuevo DataFrame df_facturas con las columnas Cliente, Fecha y Productos.\n",
        "try:\n",
        "  df_facturas = pd.read_csv(archivo_facturas)\n",
        "except FileNotFoundError:\n",
        "  df_facturas = pd.DataFrame(columns=['Cliente', 'Fecha', 'Productos'])"
      ],
      "metadata": {
        "id": "IkP-g1BiPbdD"
      },
      "execution_count": null,
      "outputs": []
    },
    {
      "cell_type": "markdown",
      "source": [
        "# a) Ingresar producto:\n",
        "El usuario debe ingresar el nombre y precio del producto. Tendrá un submenú: nuevo producto, guarda archivo, o volver."
      ],
      "metadata": {
        "id": "MDekDqWp15sa"
      }
    },
    {
      "cell_type": "code",
      "source": [
        "#Definimos la función ingresar_producto que permite al usuario ingresar un nuevo producto.\n",
        "#Declaramos que la variable df_productos es global para que pueda ser modificada dentro de la función.\n",
        "#Solicitamos al usuario el nombre del producto y lo guardamos en la variable nombre.\n",
        "\n",
        "def ingresar_producto():\n",
        "  global df_productos\n",
        "  nombre = input(\"Ingrese el nombre del producto: \")\n",
        "\n",
        "#Solicitamos al usuario el precio del producto y lo guardamos en la variable precio_input.\n",
        "#Intentamos convertir la variable precio_input a un número de punto flotante y lo guardamos en la variable precio.\n",
        "#Si la conversión a float es exitosa, se sale del bucle.\n",
        "#Si la conversión a float falla, se muestra un mensaje de error y se vuelve a pedir el precio.\n",
        "\n",
        "  while True:\n",
        "    precio_input = input(\"Ingrese el precio del producto: \")\n",
        "    try:\n",
        "      precio = float(precio_input)\n",
        "      break\n",
        "    except ValueError:\n",
        "      print(\"Error: Ingrese un valor numérico válido.\")\n",
        "\n",
        "#Creamos un nuevo DataFrame nuevo_producto con el nombre y precio del producto.\n",
        "#Concatena el nuevo DataFrame nuevo_producto al DataFrame df_productos y lo guarda en df_productos.\n",
        "#Mostramos un mensaje al usuario indicando que el producto se ha ingresado correctamente.\n",
        "\n",
        "  nuevo_producto = pd.DataFrame({'Nombre': [nombre], 'Precio': [precio]})\n",
        "  df_productos = pd.concat([df_productos, nuevo_producto], ignore_index=True)\n",
        "\n",
        "  print(\"Producto ingresado correctamente.\")"
      ],
      "metadata": {
        "id": "Rbk5N9SUQWJA"
      },
      "execution_count": null,
      "outputs": []
    },
    {
      "cell_type": "markdown",
      "source": [
        "# b) Ingresar factura:\n",
        "El usuario debe ingresar el nombre del cliente, y luego se genera un submenú para: ingresar producto, guardar y salir. Los productos se ingresan con nombre y precio. La factura además debe guardar la fecha y hora de la venta."
      ],
      "metadata": {
        "id": "0_bcqnIo3mNf"
      }
    },
    {
      "cell_type": "code",
      "source": [
        "#Definimos la función ingresar_factura que permite al usuario ingresar una nueva factura.\n",
        "#Declaramos que la variable df_facturas es global para que pueda ser modificada dentro de la función.\n",
        "#Solicitamos al usuario el nombre del cliente y lo guardamos en la variable cliente.\n",
        "#Obtenemos la fecha y hora actual y la guardamos en la variable fecha.\n",
        "\n",
        "def ingresar_factura():\n",
        "  global df_facturas\n",
        "  cliente = input(\"Ingrese el nombre del cliente: \")\n",
        "  fecha = datetime.now().strftime('%Y-%m-%d %H:%M:%S')\n",
        "\n",
        "#Ahora creamos una lista vacía para almacenar los productos de la factura.\n",
        "#Hacemos un bucle para permitir al usuario ingresar varios productos.\n",
        "#Solicitamos al usuario el nombre del producto o la letra q para salir.\n",
        "#Si el usuario ingresa la letra q, se sale del bucle.\n",
        "#Si el nombre del producto no está vacío, lo agregamos a la lista productos_factura.\n",
        "\n",
        "  productos_factura = []\n",
        "  while True:\n",
        "    nombre_producto = input(\"Ingrese el nombre del producto (o 'q' para salir): \")\n",
        "    if nombre_producto.lower() == 'q':\n",
        "      break\n",
        "    productos_factura.append(nombre_producto)\n",
        "\n",
        "#Creamos un nuevo DataFrame nueva_factura con el nombre del cliente, la fecha y la lista de productos.\n",
        "#Concatena el nuevo DataFrame nueva_factura al DataFrame df_facturas y lo guarda en df_facturas.\n",
        "#Mostramos un mensaje al usuario indicando que la factura se ha ingresado correctamente.\n",
        "\n",
        "  nueva_factura = pd.DataFrame({'Cliente': [cliente], 'Fecha': [fecha], 'Productos': [productos_factura]})\n",
        "  df_facturas = pd.concat([df_facturas, nueva_factura], ignore_index=True)\n",
        "  print(\"Factura ingresada correctamente.\")"
      ],
      "metadata": {
        "id": "8LlX2YNv4XQT"
      },
      "execution_count": null,
      "outputs": []
    },
    {
      "cell_type": "markdown",
      "source": [
        "# c) Ver resumen:\n",
        "En esta opción se debe desplegar: cantidad de ventas y monto total vendido. Opción de guardar resumen, ingresando nombre de archivo."
      ],
      "metadata": {
        "id": "4463m6pr6cTI"
      }
    },
    {
      "cell_type": "code",
      "source": [
        "#Definimos la función ver_resumen que muestra un resumen de las ventas.\n",
        "#Calculamos la cantidad de ventas contando el número de filas en el DataFrame df_facturas.\n",
        "#Calculamos el monto total vendido sumando el precio de cada producto en cada factura.\n",
        "\n",
        "def ver_resumen():\n",
        "  global df_facturas, df_productos\n",
        "  cantidad_ventas = len(df_facturas)\n",
        "  monto_total_vendido = df_facturas.apply(lambda row: sum(df_productos[df_productos['Nombre'].isin(row['Productos'])]['Precio']), axis=1).sum()\n",
        "\n",
        "#Mostramos un mensaje con la cantidad de ventas y el monto total vendido.\n",
        "  print(f'\\nResumen:')\n",
        "  print(f'Cantidad de ventas: {cantidad_ventas}')\n",
        "  print(f'Monto total vendido: {monto_total_vendido}')\n",
        "\n",
        "#Preguntamos al usuario si desea guardar el resumen.\n",
        "#Si la respuesta del usuario es sí, solicitamos el nombre del archivo para guardar el resumen.\n",
        "#Guardamos el DataFrame df_resumen en un archivo CSV con el nombre especificado por el usuario.\n",
        "#Mostramos un mensaje al usuario indicando que el resumen se ha guardado correctamente.\n",
        "\n",
        "  opcion_guardar = input(\"¿Desea guardar el resumen? (s/n): \")\n",
        "  if opcion_guardar.lower() == 's':\n",
        "    archivo_guardar = input(\"Ingrese el nombre del archivo para guardar el resumen: \")\n",
        "    df_resumen = pd.DataFrame({'Cantidad_Ventas': [cantidad_ventas], 'Monto_Total_Vendido': [monto_total_vendido]})\n",
        "    df_resumen.to_csv(archivo_guardar + '.csv', index=False)\n",
        "    print(f'Resumen guardado en {archivo_guardar}.csv')"
      ],
      "metadata": {
        "id": "7TjwroUL6q9R"
      },
      "execution_count": null,
      "outputs": []
    },
    {
      "cell_type": "markdown",
      "source": [
        "# d) Ver detalle:\n",
        "Se debe tener las opciones desplegar: ventas por usuario, ventas por producto, ventas diarias, guardar vista (ingresando nombre de archivo)."
      ],
      "metadata": {
        "id": "riqvvLlCCnIA"
      }
    },
    {
      "cell_type": "code",
      "source": [
        "#Definimos la función ver_detalle que muestra un detalle de las ventas.\n",
        "#Mostramos un menú con las opciones disponibles: ventas por usuario, ventas por producto, ventas diarias y volver.\n",
        "#Solicitamos al usuario la opción deseada.\n",
        "\n",
        "def ver_detalle():\n",
        "  global df_facturas\n",
        "  print(\"\\nDetalle:\")\n",
        "  print(\"1. Ventas por usuario\")\n",
        "  print(\"2. Ventas por producto\")\n",
        "  print(\"3. Ventas diarias\")\n",
        "  print(\"4. Volver\")\n",
        "\n",
        "  opcion_detalle = input(\"Seleccione una opción\")\n",
        "\n",
        "#Si la opción elegida es \"1\", mostramos un DataFrame con las ventas por usuario.\n",
        "#Si la opción elegida es \"2\", mostramos un DataFrame con las ventas por producto.\n",
        "#Si la opción elegida es \"3\", mostramos un DataFrame con las ventas diarias.\n",
        "#Si la opción elegida es \"4\", salimos de la función.\n",
        "\n",
        "  if opcion_detalle == '1':\n",
        "    ventas_usuario = df_facturas.groupby('Cliente').size().reset_index(name='Cantidad_Ventas')\n",
        "    print(ventas_usuario)\n",
        "  elif opcion_detalle == '2':\n",
        "    ventas_producto = df_facturas.explode('Productos')\n",
        "    ventas_producto = ventas_producto.groupby('Productos').size().reset_index(name='Cantidad_Ventas')\n",
        "    print(ventas_producto)\n",
        "  elif opcion_detalle == '3':\n",
        "    ventas_diarias = df_facturas.groupby(df_facturas['Fecha'].str.split(' ').str[0]).size().reset_index(name = 'Cantidad_Ventas')\n",
        "    print(ventas_diarias)\n",
        "  elif opcion_detalle == '4':\n",
        "    return\n",
        "\n",
        "#Preguntamos al usuario si desea guardar la vista.\n",
        "#Si la respuesta del usuario es sí, solicitamos el nombre del archivo para guardar la vista.\n",
        "#Guardamos el DataFrame correspondiente a la opción elegida en un archivo CSV con el nombre especificado por el usuario.\n",
        "#Mostramos un mensaje al usuario indicando que la vista se ha guardado correctamente.\n",
        "\n",
        "  opcion_guardar = input(\"¿Desea guardar la vista? (s/n): \")\n",
        "  if opcion_guardar.lower() == 's':\n",
        "    archivo_guardar = input(\"Ingrese el nombre del archivo para guardar la vista: \")\n",
        "    if opcion_detalle == '1':\n",
        "      ventas_usuario.to_csv(archivo_guardar + '.csv', index=False)\n",
        "    elif opcion_detalle == '2':\n",
        "      ventas_producto.to_csv(archivo_guardar + '.csv', index=False)\n",
        "    elif opcion_detalle == '3':\n",
        "      ventas_diarias.to_csv(archivo_guardar + '.csv', index=False)\n",
        "    print(f\"Vista guardada en {archivo_guardar}.csv\")"
      ],
      "metadata": {
        "id": "plFw28qsC5PX"
      },
      "execution_count": null,
      "outputs": []
    },
    {
      "cell_type": "markdown",
      "source": [
        "# e) Borrar datos:\n",
        "\n",
        "Elimina los archivos guardados (elegir productos, facturas, todos o volver)"
      ],
      "metadata": {
        "id": "xv7I2KtYjyeH"
      }
    },
    {
      "cell_type": "code",
      "source": [
        "#Definimos la función borrar_datos que permite al usuario borrar los datos almacenados.\n",
        "#Mostramos un menú con las opciones disponibles: borrar productos, borrar facturas, borrar todos los datos y volver.\n",
        "#Solicitamos al usuario la opción deseada.\n",
        "\n",
        "def borrar_datos():\n",
        "  global df_productos, df_facturas\n",
        "  print(\"\\nBorrar datos:\")\n",
        "  print(\"1. Borrar productos\")\n",
        "  print(\"2. Borrar facturas\")\n",
        "  print(\"3. Borrar todos los datos\")\n",
        "  print(\"4. Volver\")\n",
        "\n",
        "  opcion_borrar = input (\"Seleccione una opción: \")\n",
        "\n",
        "#Si la opción elegida es \"1\", eliminamos todos los datos del DataFrame df_productos y lo guardamos en un archivo CSV vacío.\n",
        "#Si la opción elegida es \"2\", eliminamos todos los datos del DataFrame df_facturas y lo guardamos en un archivo CSV vacío.\n",
        "#Si la opción elegida es \"3\", eliminamos todos los datos de los DataFrames df_productos y df_facturas y los guardamos en archivos CSV vacíos.\n",
        "#Si la opción elegida es \"4\", salimos de la función.\n",
        "\n",
        "  if opcion_borrar == '1':\n",
        "    df_productos = pd.DataFrame(columns = ['Nombre', 'Precio'])\n",
        "    df_productos.to_csv(archivo_productos, index=False)\n",
        "    print(\"Datos de productos borrados.\")\n",
        "  elif opcion_borrar == '2':\n",
        "    df_facturas = pd.DataFrame(columns = ['Cliente', 'Fecha', 'Productos'])\n",
        "    df_facturas.to_csv(archivo_facturas, index=False)\n",
        "    print(\"Datos de facturas borrados.\")\n",
        "  elif opcion_borrar == '3':\n",
        "    df_productos = pd.DataFrame(columns=['Nombre', 'Precio'])\n",
        "    df_facturas = pd.DataFrame(columns= ['CLiente', 'Fecha', 'Productos'])\n",
        "    print(\"Todos los datos han sido borrados.\")\n",
        "  elif opcion_borrar == '4':\n",
        "    return"
      ],
      "metadata": {
        "id": "OYzCkwiNkU3a"
      },
      "execution_count": null,
      "outputs": []
    },
    {
      "cell_type": "markdown",
      "source": [
        "# f) Salir:\n",
        "\n",
        "Termina la ejecución del programa. Si los archivos ya existen, deben ser cargados al inicio."
      ],
      "metadata": {
        "id": "DlIqHdiLphfW"
      }
    },
    {
      "cell_type": "code",
      "source": [
        "#Definimos la función main que contiene el bucle principal del programa.\n",
        "#Mostramos un menú con las opciones disponibles: ingresar producto, ingresar factura, ver resumen, ver detalle, borrar datos y salir.\n",
        "#Solicitamos al usuario la opción deseada.\n",
        "\n",
        "def main():\n",
        "  global df_productos, df_facturas\n",
        "  while True:\n",
        "    print(\"\\nSistema de facturación y bodega\")\n",
        "    print(\"\\nMenú principal:\")\n",
        "    print(\"\\na. Ingresar producto \\nb. Ingresar factura \\nc. Ver resumen \\nd. Ver detalle \\ne. Borrar datos \\nf. Salir\")\n",
        "    opcion = input(\"\\nSeleccione una opción: \").lower()\n",
        "\n",
        "#Si la opción elegida es \"a\", llamamos a la función ingresar_producto.\n",
        "#Si la opción elegida es \"b\", llamamos a la función ingresar_factura.\n",
        "#Si la opción elegida es \"c\", llamamos a la función ver_resumen.\n",
        "#Si la opción elegida es \"d\", llamamos a la función ver_detalle.\n",
        "#Si la opción elegida es \"e\", llamamos a la función borrar_datos.\n",
        "#Si la opción elegida es \"f\", salimos del bucle principal del programa.\n",
        "#Mostramos un mensaje de despedida al usuario.\n",
        "\n",
        "    if opcion == 'a':\n",
        "      ingresar_producto()\n",
        "    elif opcion == 'b':\n",
        "      ingresar_factura()\n",
        "    elif opcion == 'c':\n",
        "      ver_resumen()\n",
        "    elif opcion == 'd':\n",
        "      ver_detalle()\n",
        "    elif opcion == 'e':\n",
        "      borrar_datos()\n",
        "    elif opcion == 'f':\n",
        "      print(\"Saliendo\")\n",
        "      break\n",
        "    else:\n",
        "      print(\"Opción no válida. Inténtelo nuevamente.\")\n",
        "\n",
        "#Si se ejecuta el archivo como módulo principal (__name__ == \"__main__\":), llamamos a la función main.\n",
        "\n",
        "if __name__ == \"__main__\":\n",
        "  main()"
      ],
      "metadata": {
        "colab": {
          "base_uri": "https://localhost:8080/"
        },
        "id": "GpjwiSDFpu5u",
        "outputId": "483f89ca-e39e-49bc-b26d-b6b70a0e8406"
      },
      "execution_count": null,
      "outputs": [
        {
          "output_type": "stream",
          "name": "stdout",
          "text": [
            "\n",
            "Sistema de facturación y bodega\n",
            "\n",
            "Menú principal:\n",
            "\n",
            "a. Ingresar producto \n",
            "b. Ingresar factura \n",
            "c. Ver resumen \n",
            "d. Ver detalle \n",
            "e. Borrar datos \n",
            "f. Salir\n",
            "\n",
            "Seleccione una opción: d\n",
            "\n",
            "Detalle:\n",
            "1. Ventas por usuario\n",
            "2. Ventas por producto\n",
            "3. Ventas diarias\n",
            "4. Volver\n",
            "Seleccione una opción3\n",
            "        Fecha  Cantidad_Ventas\n",
            "0  2024-03-25                1\n",
            "¿Desea guardar la vista? (s/n): s\n",
            "Ingrese el nombre del archivo para guardar la vista: vista1\n",
            "Vista guardada en vista1.csv\n",
            "\n",
            "Sistema de facturación y bodega\n",
            "\n",
            "Menú principal:\n",
            "\n",
            "a. Ingresar producto \n",
            "b. Ingresar factura \n",
            "c. Ver resumen \n",
            "d. Ver detalle \n",
            "e. Borrar datos \n",
            "f. Salir\n",
            "\n",
            "Seleccione una opción: c\n",
            "\n",
            "Resumen:\n",
            "Cantidad de ventas: 1\n",
            "Monto total vendido: 1240.0\n",
            "¿Desea guardar el resumen? (s/n): d\n",
            "\n",
            "Sistema de facturación y bodega\n",
            "\n",
            "Menú principal:\n",
            "\n",
            "a. Ingresar producto \n",
            "b. Ingresar factura \n",
            "c. Ver resumen \n",
            "d. Ver detalle \n",
            "e. Borrar datos \n",
            "f. Salir\n",
            "\n",
            "Seleccione una opción: c\n",
            "\n",
            "Resumen:\n",
            "Cantidad de ventas: 1\n",
            "Monto total vendido: 1240.0\n",
            "¿Desea guardar el resumen? (s/n): n\n",
            "\n",
            "Sistema de facturación y bodega\n",
            "\n",
            "Menú principal:\n",
            "\n",
            "a. Ingresar producto \n",
            "b. Ingresar factura \n",
            "c. Ver resumen \n",
            "d. Ver detalle \n",
            "e. Borrar datos \n",
            "f. Salir\n",
            "\n",
            "Seleccione una opción: d\n",
            "\n",
            "Detalle:\n",
            "1. Ventas por usuario\n",
            "2. Ventas por producto\n",
            "3. Ventas diarias\n",
            "4. Volver\n",
            "Seleccione una opción2\n",
            "  Productos  Cantidad_Ventas\n",
            "0   Alexito                1\n",
            "1   Amarito                1\n",
            "2     Yegui                1\n",
            "¿Desea guardar la vista? (s/n): s\n",
            "Ingrese el nombre del archivo para guardar la vista: vista2\n",
            "Vista guardada en vista2.csv\n",
            "\n",
            "Sistema de facturación y bodega\n",
            "\n",
            "Menú principal:\n",
            "\n",
            "a. Ingresar producto \n",
            "b. Ingresar factura \n",
            "c. Ver resumen \n",
            "d. Ver detalle \n",
            "e. Borrar datos \n",
            "f. Salir\n",
            "\n",
            "Seleccione una opción: e\n",
            "\n",
            "Borrar datos:\n",
            "1. Borrar productos\n",
            "2. Borrar facturas\n",
            "3. Borrar todos los datos\n",
            "4. Volver\n",
            "Seleccione una opción: 3\n",
            "Todos los datos han sido borrados.\n",
            "\n",
            "Sistema de facturación y bodega\n",
            "\n",
            "Menú principal:\n",
            "\n",
            "a. Ingresar producto \n",
            "b. Ingresar factura \n",
            "c. Ver resumen \n",
            "d. Ver detalle \n",
            "e. Borrar datos \n",
            "f. Salir\n",
            "\n",
            "Seleccione una opción: c\n",
            "\n",
            "Resumen:\n",
            "Cantidad de ventas: 0\n",
            "Monto total vendido: CLiente      0.0\n",
            "Fecha        0.0\n",
            "Productos    0.0\n",
            "dtype: float64\n",
            "¿Desea guardar el resumen? (s/n): n\n",
            "\n",
            "Sistema de facturación y bodega\n",
            "\n",
            "Menú principal:\n",
            "\n",
            "a. Ingresar producto \n",
            "b. Ingresar factura \n",
            "c. Ver resumen \n",
            "d. Ver detalle \n",
            "e. Borrar datos \n",
            "f. Salir\n",
            "\n",
            "Seleccione una opción: f\n",
            "Saliendo\n"
          ]
        }
      ]
    }
  ]
}